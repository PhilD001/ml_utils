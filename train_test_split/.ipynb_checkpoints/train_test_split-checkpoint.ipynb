{
 "cells": [
  {
   "cell_type": "code",
   "execution_count": 1,
   "id": "earned-cradle",
   "metadata": {},
   "outputs": [],
   "source": [
    "import pandas as pd\n",
    "import numpy as np\n",
    "import split"
   ]
  },
  {
   "cell_type": "code",
   "execution_count": 2,
   "id": "sudden-moisture",
   "metadata": {},
   "outputs": [],
   "source": [
    "participants = ['subject'] * 900\n",
    "subjects = [participant + '_' + str(round(i/30)+1).zfill(2) for i, participant in enumerate(participants)]\n",
    "subjects = np.asarray(subjects)"
   ]
  },
  {
   "cell_type": "code",
   "execution_count": 3,
   "id": "federal-superior",
   "metadata": {},
   "outputs": [],
   "source": [
    "x=np.random.randint(0,5,size=[subjects.shape[0],2])\n",
    "y=np.random.randint(0,3,size=[subjects.shape[0],1])\n"
   ]
  },
  {
   "cell_type": "code",
   "execution_count": 4,
   "id": "received-crystal",
   "metadata": {},
   "outputs": [],
   "source": [
    "x_train, y_train, x_test, y_test, subject_train, subject_test = split.subject_wise_split(x,y,participant=subjects,subject_wise=True, split=0.10, seed=42)"
   ]
  }
 ],
 "metadata": {
  "kernelspec": {
   "display_name": "Python 3",
   "language": "python",
   "name": "python3"
  },
  "language_info": {
   "codemirror_mode": {
    "name": "ipython",
    "version": 3
   },
   "file_extension": ".py",
   "mimetype": "text/x-python",
   "name": "python",
   "nbconvert_exporter": "python",
   "pygments_lexer": "ipython3",
   "version": "3.7.9"
  }
 },
 "nbformat": 4,
 "nbformat_minor": 5
}
