{
 "cells": [
  {
   "cell_type": "code",
   "execution_count": 1,
   "id": "earned-cradle",
   "metadata": {},
   "outputs": [],
   "source": [
    "import pandas as pd\n",
    "import numpy as np\n",
    "import split"
   ]
  },
  {
   "cell_type": "code",
   "execution_count": 2,
   "id": "spatial-anger",
   "metadata": {},
   "outputs": [],
   "source": [
    "data=pd.read_pickle('.\\\\testdata.pkl')"
   ]
  },
  {
   "cell_type": "code",
   "execution_count": 7,
   "id": "third-postage",
   "metadata": {},
   "outputs": [
    {
     "data": {
      "text/plain": [
       "(18210,)"
      ]
     },
     "execution_count": 7,
     "metadata": {},
     "output_type": "execute_result"
    }
   ],
   "source": [
    "data['Participant'].shape"
   ]
  },
  {
   "cell_type": "code",
   "execution_count": 29,
   "id": "federal-superior",
   "metadata": {},
   "outputs": [],
   "source": [
    "x=np.random.randint(0,5,size=[data['Participant'].shape[0],2])\n",
    "y=np.random.randint(0,3,size=[data['Participant'].shape[0],1])\n"
   ]
  },
  {
   "cell_type": "code",
   "execution_count": 30,
   "id": "received-crystal",
   "metadata": {},
   "outputs": [],
   "source": [
    "x_train,y_train,x_test,y_test,extract = split.subject_wise_split(x,y,participant=data['Participant'],subject_wise=True, split=0.10, seed=42)"
   ]
  },
  {
   "cell_type": "code",
   "execution_count": null,
   "id": "sudden-moisture",
   "metadata": {},
   "outputs": [],
   "source": []
  }
 ],
 "metadata": {
  "kernelspec": {
   "display_name": "Python 3",
   "language": "python",
   "name": "python3"
  },
  "language_info": {
   "codemirror_mode": {
    "name": "ipython",
    "version": 3
   },
   "file_extension": ".py",
   "mimetype": "text/x-python",
   "name": "python",
   "nbconvert_exporter": "python",
   "pygments_lexer": "ipython3",
   "version": "3.7.9"
  }
 },
 "nbformat": 4,
 "nbformat_minor": 5
}
