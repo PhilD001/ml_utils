{
 "cells": [
  {
   "cell_type": "code",
   "execution_count": 2,
   "id": "animal-ethics",
   "metadata": {},
   "outputs": [],
   "source": [
    "import pandas as pd\n",
    "import numpy as np\n",
    "import split"
   ]
  },
  {
   "cell_type": "code",
   "execution_count": 8,
   "id": "completed-attack",
   "metadata": {},
   "outputs": [],
   "source": [
    "data=pd.read_pickle('.\\\\testdata.pkl')"
   ]
  },
  {
   "cell_type": "code",
   "execution_count": 12,
   "id": "collect-british",
   "metadata": {},
   "outputs": [],
   "source": [
    "train_index, test_index, extract = split.subject_wise_split(participant=data['Participant'],subject_wise=True, split=0.10, seed=42)"
   ]
  },
  {
   "cell_type": "code",
   "execution_count": null,
   "id": "exterior-syndrome",
   "metadata": {},
   "outputs": [],
   "source": []
  }
 ],
 "metadata": {
  "kernelspec": {
   "display_name": "Python 3",
   "language": "python",
   "name": "python3"
  },
  "language_info": {
   "codemirror_mode": {
    "name": "ipython",
    "version": 3
   },
   "file_extension": ".py",
   "mimetype": "text/x-python",
   "name": "python",
   "nbconvert_exporter": "python",
   "pygments_lexer": "ipython3",
   "version": "3.7.9"
  }
 },
 "nbformat": 4,
 "nbformat_minor": 5
}
